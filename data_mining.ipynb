{
 "cells": [
  {
   "cell_type": "markdown",
   "metadata": {},
   "source": [
    "# CSCI4700 – Data Mining - Assignment 2"
   ]
  },
  {
   "cell_type": "markdown",
   "metadata": {},
   "source": [
    "### Part 1 - Distance and Attribute Dependence ###"
   ]
  },
  {
   "cell_type": "markdown",
   "metadata": {},
   "source": [
    "### Discretization, One-Hot Encoding, and Hamming & Jaccard Distance Part"
   ]
  },
  {
   "cell_type": "code",
   "execution_count": 32,
   "metadata": {},
   "outputs": [
    {
     "name": "stdout",
     "output_type": "stream",
     "text": [
      "Closest by Hamming distance: 8948 and 13242 with distance 0\n",
      "Closest by Hamming distance: 8948 and 43510 with distance 0\n",
      "Closest by Hamming distance: 8948 and 6793 with distance 0\n",
      "Closest by Hamming distance: 8948 and 2064 with distance 0\n",
      "Closest by Hamming distance: 27983 and 17272 with distance 0\n",
      "Farthest by Hamming distance: 23098 and 26543 with distance 14\n",
      "Farthest by Hamming distance: 15111 and 9787 with distance 14\n",
      "Closest by Jaccard distance: 8948 and 13242 with similarity 1.0\n",
      "Closest by Jaccard distance: 8948 and 43510 with similarity 1.0\n",
      "Closest by Jaccard distance: 8948 and 6793 with similarity 1.0\n",
      "Closest by Jaccard distance: 8948 and 2064 with similarity 1.0\n",
      "Closest by Jaccard distance: 27983 and 17272 with similarity 1.0\n",
      "Farthest by Jaccard distance: 23098 and 26543 with similarity 0.034482758620689655\n",
      "Farthest by Jaccard distance: 15111 and 9787 with similarity 0.034482758620689655\n"
     ]
    }
   ],
   "source": [
    "import numpy as np\n",
    "import random as rnd\n",
    "from scipy import stats\n",
    "\n",
    "# Defining the files containing the dataset\n",
    "dataset_file1 = \"adult.data\"\n",
    "dataset_file2 = \"adult.test\"\n",
    "\n",
    "# Opening the files and read their contents\n",
    "file1 = open(dataset_file1, \"r\")\n",
    "content1 = file1.readlines()\n",
    "file2 = open(dataset_file2, \"r\")\n",
    "content2 = file2.readlines()[1::]\n",
    "\n",
    "# Concatenating the file contents into 1\n",
    "records = content1 + content2\n",
    "\n",
    "# Removing periods\n",
    "for index in range(len(records)):\n",
    "  records[index] = records[index].replace('.', '')\n",
    "\n",
    "# Addding an identifier to each record\n",
    "for index in range(len(records)):\n",
    "  records[index] = f\"{index + 1}, {records[index]}\"\n",
    "\n",
    "# Excluding records with missing ('?') data\n",
    "records = [record for record in records if '?' not in record]\n",
    "\n",
    "# Converting the records into a 2D list (matrix) for data manipulation\n",
    "matrix = []\n",
    "for record in records:\n",
    "  elements = record.split(\",\")\n",
    "  # Skipping records with different attribute amounts\n",
    "  if (len(elements) != 16):\n",
    "    continue\n",
    "  elements = [element.strip() for element in elements]\n",
    "  elements = [int(element) if element.isnumeric() else element for element in elements]\n",
    "  matrix.append(elements)\n",
    "\n",
    "# Initializing a list for attribute mappings\n",
    "attribute_mappings = [0]\n",
    "for attribute_index in range(1, 16):\n",
    "  attribute_mappings.append({})\n",
    "  if isinstance(matrix[0][attribute_index], int):\n",
    "    # Applying equal-frequency binning for continuous attributes\n",
    "    matrix.sort(key=lambda x: x[attribute_index])\n",
    "\n",
    "    for group in range(5):\n",
    "      start_index = group * len(matrix) // 5\n",
    "      end_index = (group + 1) * len(matrix) // 5 - 1\n",
    "      range_key = f\"{group}: {matrix[start_index][attribute_index]}-{matrix[end_index][attribute_index]}\"\n",
    "      attribute_mappings[-1][range_key] = group\n",
    "      for record_index in range(start_index, end_index + 1):\n",
    "        matrix[record_index][attribute_index] = group\n",
    "\n",
    "  else:\n",
    "    # Converting discrete attributes to integer mappings\n",
    "    unique_index = 0\n",
    "    for record in matrix:\n",
    "      attribute_value = record[attribute_index]\n",
    "      if attribute_value not in attribute_mappings[-1]:\n",
    "        attribute_mappings[-1][attribute_value] = unique_index\n",
    "        unique_index += 1\n",
    "      record[attribute_index] = attribute_mappings[-1][attribute_value]\n",
    "\n",
    "# Converting the dataset to one-hot encoded format\n",
    "for record_index in range(len(matrix)):\n",
    "  for attribute_index in range(1, 16):\n",
    "    # Initializing an array with zeros\n",
    "    one_hot_vector = np.zeros(len(attribute_mappings[attribute_index]))\n",
    "    # Setting the appropriate index to 1\n",
    "    one_hot_vector[matrix[record_index][attribute_index]] = 1\n",
    "    # Updating the record with the one-hot encoded vector\n",
    "    matrix[record_index][attribute_index] = one_hot_vector\n",
    "\n",
    "# Updating the attribute mappings to one-hot encoded vectors\n",
    "for attribute_index in range(1, 16):\n",
    "  for key, value in attribute_mappings[attribute_index].items():\n",
    "    # Creating a one-hot encoded vector for the attribute value\n",
    "    one_hot_vector = np.zeros(len(attribute_mappings[attribute_index]))\n",
    "    # Assigning 1 to the index corresponding to the attribute value\n",
    "    one_hot_vector[value] = 1\n",
    "    # Updating the mapping with the one-hot encoded vector\n",
    "    attribute_mappings[attribute_index][key] = one_hot_vector\n",
    "\n",
    "# Extracting a random subset of 100 data points from the dataset\n",
    "subset_indices = rnd.sample(range(len(matrix)), 100)\n",
    "\n",
    "# Preparing to store the pairwise distance calculations\n",
    "calculated_distances = []\n",
    "\n",
    "# Determining the distances between each pair in the random subset\n",
    "for first_index in subset_indices:\n",
    "  for second_index in subset_indices:\n",
    "    if first_index >= second_index:\n",
    "      # Skipping duplicates and comparison of the same data points\n",
    "      continue\n",
    "    # Tracking the number of attributes that match or differ\n",
    "    union_of_attributes = 0\n",
    "    intersection_of_attributes = 0\n",
    "    # Comparing attributes between two data points\n",
    "    for attribute in range(1, 16):\n",
    "      if np.array_equal(matrix[first_index][attribute], matrix[second_index][attribute]):\n",
    "        union_of_attributes += 2\n",
    "      else:\n",
    "        intersection_of_attributes += 1\n",
    "        union_of_attributes += 1\n",
    "    # Calculating the Hamming distance and Jaccard similarity index\n",
    "    hamming = 15 - intersection_of_attributes\n",
    "    jaccard = intersection_of_attributes / union_of_attributes\n",
    "    # Recording the distances for the pair\n",
    "    calculated_distances.append((first_index, second_index, hamming, jaccard))\n",
    "\n",
    "# Organizing the pairs based on Hamming distance and display the closest and most distant points\n",
    "calculated_distances.sort(key=lambda pair: pair[2])\n",
    "\n",
    "index = 0\n",
    "while index < len(calculated_distances) and calculated_distances[index][2] == calculated_distances[0][2]:\n",
    "  print(f\"Closest by Hamming distance: {matrix[calculated_distances[index][0]][0]} and {matrix[calculated_distances[index][1]][0]} with distance {calculated_distances[index][2]}\")\n",
    "  index += 1\n",
    "\n",
    "index = len(calculated_distances) - 1\n",
    "while index >= 0 and calculated_distances[index][2] == calculated_distances[-1][2]:\n",
    "  print(f\"Farthest by Hamming distance: {matrix[calculated_distances[index][0]][0]} and {matrix[calculated_distances[index][1]][0]} with distance {calculated_distances[index][2]}\")\n",
    "  index -= 1\n",
    "\n",
    "# Organizing the pairs based on Jaccard distance and display the closest and most distant points\n",
    "calculated_distances.sort(key=lambda pair: pair[3], reverse=True)\n",
    "\n",
    "index = 0\n",
    "while index < len(calculated_distances) and calculated_distances[index][3] == calculated_distances[0][3]:\n",
    "  print(f\"Closest by Jaccard distance: {matrix[calculated_distances[index][0]][0]} and {matrix[calculated_distances[index][1]][0]} with similarity {calculated_distances[index][3]}\")\n",
    "  index += 1\n",
    "\n",
    "index = len(calculated_distances) - 1\n",
    "while index >= 0 and calculated_distances[index][3] == calculated_distances[-1][3]:\n",
    "  print(f\"Farthest by Jaccard distance: {matrix[calculated_distances[index][0]][0]} and {matrix[calculated_distances[index][1]][0]} with similarity {calculated_distances[index][3]}\")\n",
    "  index -= 1"
   ]
  },
  {
   "cell_type": "markdown",
   "metadata": {},
   "source": [
    "### Conducting Chi-Squared Independency Test Part"
   ]
  },
  {
   "cell_type": "code",
   "execution_count": 10,
   "metadata": {},
   "outputs": [],
   "source": [
    "def compute_chi_square(first_attribute: int, second_attribute: int) -> float:\n",
    "  # Counting occurrences for each category within the attributes\n",
    "  frequency_count_first = {}\n",
    "  frequency_count_second = {}\n",
    "  joint_frequencies = {}\n",
    "\n",
    "  for record_index in range(len(matrix)):\n",
    "    first_attribute_value = str(matrix[record_index][first_attribute])\n",
    "    second_attribute_value = str(matrix[record_index][second_attribute])\n",
    "\n",
    "    if first_attribute_value not in frequency_count_first:\n",
    "      frequency_count_first[first_attribute_value] = 1\n",
    "    else:\n",
    "      frequency_count_first[first_attribute_value] += 1\n",
    "\n",
    "    if second_attribute_value not in frequency_count_second:\n",
    "      frequency_count_second[second_attribute_value] = 1\n",
    "    else:\n",
    "      frequency_count_second[second_attribute_value] += 1\n",
    "\n",
    "    combined_key = first_attribute_value + second_attribute_value\n",
    "    if combined_key not in joint_frequencies:\n",
    "      joint_frequencies[combined_key] = 1\n",
    "    else:\n",
    "      joint_frequencies[combined_key] += 1\n",
    "\n",
    "  # Calculating the chi-square statistic\n",
    "  chi_square_total = 0\n",
    "  for first_category, first_frequency in frequency_count_first.items():\n",
    "    for second_category, second_frequency in frequency_count_second.items():\n",
    "      expected_frequency = first_frequency * second_frequency / len(matrix)\n",
    "      combined_key = first_category + second_category\n",
    "      if combined_key in joint_frequencies:\n",
    "        observed_frequency = joint_frequencies[combined_key]\n",
    "      else:\n",
    "        observed_frequency = 0\n",
    "      chi_square_total += ((observed_frequency - expected_frequency) ** 2) / expected_frequency\n",
    "\n",
    "  return chi_square_total"
   ]
  },
  {
   "cell_type": "code",
   "execution_count": 11,
   "metadata": {},
   "outputs": [
    {
     "name": "stdout",
     "output_type": "stream",
     "text": [
      "Chi-squared statistic: 962.9873059664582\n",
      "P-value: 5.827307092250789e-163\n",
      "Chi-squared statistic: 1626.4195745565535\n",
      "P-value: 0.0\n"
     ]
    }
   ],
   "source": [
    "# Calculating the chi-squared statistic for 'education' (attribute 4) and 'race' (attribute 9)\n",
    "chi_squared_value = compute_chi_square(4, 9)\n",
    "print(f\"Chi-squared statistic: {chi_squared_value}\")\n",
    "\n",
    "# Calculating the p-value from the chi-squared distribution\n",
    "degrees_of_freedom = (len(attribute_mappings[4]) - 1) * (len(attribute_mappings[9]) - 1)\n",
    "p_value = stats.distributions.chi2.sf(chi_squared_value, degrees_of_freedom)\n",
    "print(f\"P-value: {p_value}\")\n",
    "\n",
    "# Calculating the chi-squared statistic for 'workclass' (attribute 2) and 'marital-status' (attribute 6)\n",
    "chi_squared_value = compute_chi_square(2, 6)\n",
    "print(f\"Chi-squared statistic: {chi_squared_value}\")\n",
    "\n",
    "# Calculating the p-value from the chi-squared distribution\n",
    "degrees_of_freedom = (len(attribute_mappings[2]) - 1) * (len(attribute_mappings[6]) - 1)\n",
    "p_value = stats.distributions.chi2.sf(chi_squared_value, degrees_of_freedom)\n",
    "print(f\"P-value: {p_value}\")"
   ]
  },
  {
   "cell_type": "markdown",
   "metadata": {},
   "source": [
    "### Part 2 - Dimensionality Reduction"
   ]
  },
  {
   "cell_type": "code",
   "execution_count": 31,
   "metadata": {},
   "outputs": [
    {
     "name": "stdout",
     "output_type": "stream",
     "text": [
      "100 random samples from the reduced data: [-0.53937462 -0.76112279 -0.53937462  3.74999696  3.62014954  2.99165956\n",
      " -0.47761201 -0.47761201 -0.47761201  2.99165956 -0.53937462 -0.47761201\n",
      " -0.47761201 -0.76112279 -0.52809926 -0.52809926 -0.52809926  3.6797318\n",
      " -0.47761201 -0.76112279 -0.53937462 -0.53937462 -0.43134374 -0.47761201\n",
      "  3.6797318   3.36651655 -0.731245   -0.47761201 -0.41802975 -0.73693805\n",
      " -0.71282756 -0.731245   -0.41802975 -0.54231264 -0.47761201 -0.47761201\n",
      "  2.99165956 -0.52809926 -0.3477646  -0.53937462  3.55838693 -0.731245\n",
      " -0.53937462  3.36651655 -0.71282756 -0.43134374 -0.76112279 -0.43134374\n",
      " -0.71282756 -0.731245   -0.47761201 -0.53937462 -0.53937462 -0.33809312\n",
      " -0.53937462 -0.53937462 -0.731245   -0.47761201  3.55838693 -0.47761201\n",
      " -0.53937462 -0.47761201 -0.47761201 -0.54231264 -0.47761201 -0.64035896\n",
      "  3.62014954 -0.731245   -0.43134374 -0.731245   -0.53937462 -0.53937462\n",
      " -0.47761201 -0.53937462  2.99165956 -0.47761201 -0.731245   -0.47761201\n",
      " -0.47761201 -0.47761201 -0.731245   -0.53937462 -0.33809312  3.36651655\n",
      " -0.53937462 -0.47761201 -0.41802975 -0.47761201 -0.731245   -0.41802975\n",
      "  3.55544891 -0.47761201 -0.53937462 -0.53937462 -0.47761201 -0.47761201\n",
      " -0.71282756 -0.54231264 -0.64035896 -0.41802975]\n",
      "Variance explained by the first principal component: 0.09221017196621961\n"
     ]
    }
   ],
   "source": [
    "import numpy as np\n",
    "import pandas as pd\n",
    "\n",
    "# Extracting 'Race' and 'Education' data from the matrix\n",
    "race_data = [record[9] for record in matrix]\n",
    "education_data = [record[4] for record in matrix]\n",
    "\n",
    "# Concatenating the race and education data horizontally to form the encoded_data\n",
    "encoded_data = np.hstack((race_data, education_data))\n",
    "\n",
    "# Creating a DataFrame from the extracted data\n",
    "data = pd.DataFrame({\n",
    "    'Race': race_data,\n",
    "    'Education': education_data\n",
    "})\n",
    "\n",
    "# Function to perform PCA from scratch\n",
    "def pca_from_scratch(X, num_components):\n",
    "    # Step 1: Standardizing the data to have zero mean\n",
    "    X_standardized = (X - np.mean(X, axis=0)) / np.std(X, axis=0)\n",
    "    \n",
    "    # Step 2: Calculating the covariance matrix\n",
    "    covariance_matrix = np.cov(X_standardized, rowvar=False)\n",
    "    \n",
    "    # Step 3: Computing the eigenvalues and eigenvectors for the covariance matrix\n",
    "    eigenvalues, eigenvectors = np.linalg.eigh(covariance_matrix)\n",
    "    \n",
    "    # Step 4: Sorting the eigenvalues and corresponding eigenvectors in descending order\n",
    "    sorted_idx = np.argsort(eigenvalues)[::-1]\n",
    "    eigenvalues_sorted = eigenvalues[sorted_idx]\n",
    "    eigenvectors_sorted = eigenvectors[:, sorted_idx]\n",
    "    \n",
    "    # Step 5: Selecting the top eigenvalues\n",
    "    selected_eigenvectors = eigenvectors_sorted[:, :num_components]\n",
    "    \n",
    "    # Step 6: Transforming original data using the eigenvectors corresponding to top eigenvalues\n",
    "    X_reduced = np.dot(X_standardized, selected_eigenvectors)\n",
    "    \n",
    "    return X_reduced, eigenvalues_sorted\n",
    "\n",
    "# Applying PCA to the one-hot encoded data to reduce it to 1 principal component\n",
    "X_reduced, eigenvalues_sorted = pca_from_scratch(encoded_data, num_components=1)\n",
    "\n",
    "# Take a random sample of 100 points from the reduced data\n",
    "random_sample_indices = np.random.choice(X_reduced.shape[0], size=100, replace=False)\n",
    "random_sample = X_reduced[random_sample_indices, :]\n",
    "\n",
    "# Calculate the variance explained by the first principal component\n",
    "total_variance = np.sum(eigenvalues_sorted)\n",
    "explained_variance_ratio = eigenvalues_sorted[0] / total_variance\n",
    "\n",
    "# Print the results\n",
    "print(\"100 random samples from the reduced data:\", random_sample.flatten())\n",
    "print(\"Variance explained by the first principal component:\", explained_variance_ratio)"
   ]
  },
  {
   "cell_type": "markdown",
   "metadata": {},
   "source": [
    "### Part 3 - Graph Mining"
   ]
  },
  {
   "cell_type": "markdown",
   "metadata": {},
   "source": [
    "### Part 3.1 - Diameter"
   ]
  },
  {
   "cell_type": "code",
   "execution_count": 2,
   "metadata": {},
   "outputs": [
    {
     "name": "stdout",
     "output_type": "stream",
     "text": [
      "Diameter of the graph: 9\n"
     ]
    }
   ],
   "source": [
    "import networkx as nx\n",
    "from collections import defaultdict, deque\n",
    "\n",
    "# Reading edges from a file\n",
    "with open('Ecoli.txt', 'r') as file:\n",
    "    edges = [tuple(map(int, line.split())) for line in file.readlines()]\n",
    "\n",
    "# Creating the undirected graph from edges\n",
    "graph = defaultdict(list)\n",
    "for u, v in edges:\n",
    "    graph[u].append(v)\n",
    "    graph[v].append(u)\n",
    "\n",
    "# Listing of all unique nodes\n",
    "nodes_list = list(graph.keys())\n",
    "\n",
    "# Implementing BFS to calculate distances from a single node\n",
    "def bfs(v, adj_list):\n",
    "    q = deque([v])\n",
    "    dists = {v: 0}  # Dictionary to track distances from the node v\n",
    "\n",
    "    while q:\n",
    "        u = q.popleft()\n",
    "\n",
    "        for to in adj_list[u]:\n",
    "            if to not in dists:  # If 'to' has not been visited\n",
    "                dists[to] = dists[u] + 1\n",
    "                q.append(to)\n",
    "    \n",
    "    return dists\n",
    "\n",
    "# Function to compute the diameter using the custom-based BFS\n",
    "def compute_diameter(graph, nodes):\n",
    "    max_diameter = 0\n",
    "    for node in nodes:\n",
    "        distances = bfs(node, graph)\n",
    "        if distances:\n",
    "            furthest_node_distance = max(distances.values())\n",
    "            max_diameter = max(max_diameter, furthest_node_distance)\n",
    "    return max_diameter\n",
    "\n",
    "# Calculating and printing the diameter\n",
    "diameter = compute_diameter(graph, nodes_list)\n",
    "print(\"Diameter of the graph:\", diameter)"
   ]
  },
  {
   "cell_type": "markdown",
   "metadata": {},
   "source": [
    "### Part 3.2 - Degree Distribution"
   ]
  },
  {
   "cell_type": "code",
   "execution_count": 5,
   "metadata": {},
   "outputs": [
    {
     "name": "stdout",
     "output_type": "stream",
     "text": [
      "Degree Distribution: {1: 0.3539936102236422, 2: 0.2268370607028754, 3: 0.1412140575079872, 4: 0.09520766773162939, 5: 0.03642172523961661, 6: 0.06261980830670927, 7: 0.019808306709265176, 8: 0.008306709265175719, 9: 0.011501597444089457, 10: 0.003194888178913738, 11: 0.008306709265175719, 12: 0.003194888178913738, 13: 0.0012779552715654952, 14: 0.0012779552715654952, 15: 0.0019169329073482429, 16: 0.0012779552715654952, 18: 0.0006389776357827476, 19: 0.0006389776357827476, 20: 0.0012779552715654952, 22: 0.0006389776357827476, 23: 0.0012779552715654952, 25: 0.0012779552715654952, 30: 0.0006389776357827476, 31: 0.0006389776357827476, 33: 0.0019169329073482429, 34: 0.0012779552715654952, 36: 0.0012779552715654952, 40: 0.0006389776357827476, 45: 0.0006389776357827476, 46: 0.0006389776357827476, 49: 0.0006389776357827476, 54: 0.0006389776357827476, 55: 0.0006389776357827476, 83: 0.0006389776357827476, 87: 0.0006389776357827476, 90: 0.0012779552715654952, 97: 0.0006389776357827476, 115: 0.0006389776357827476, 139: 0.0006389776357827476, 157: 0.0006389776357827476, 216: 0.0006389776357827476, 217: 0.0006389776357827476, 221: 0.0006389776357827476, 277: 0.0006389776357827476}\n"
     ]
    },
    {
     "data": {
      "image/png": "[encoded data removed]",
      "text/plain": [
       "<Figure size 1000x600 with 1 Axes>"
      ]
     },
     "metadata": {},
     "output_type": "display_data"
    },
    {
     "name": "stdout",
     "output_type": "stream",
     "text": [
      "Slope (Gamma) of the line: 1.158272386509981\n"
     ]
    }
   ],
   "source": [
    "import matplotlib.pyplot as plt\n",
    "import numpy as np\n",
    "\n",
    "n = len(nodes_list)\n",
    "degrees = [0] * (n + 1)\n",
    "max_deg = 0\n",
    "\n",
    "# Counting each node's degree\n",
    "for node, neighbors in graph.items():\n",
    "    node_degree = len(neighbors)\n",
    "    degrees[node_degree] += 1\n",
    "    max_deg = max(max_deg, node_degree)\n",
    "\n",
    "# Normalizing degrees to probabilities\n",
    "x = []\n",
    "y = []\n",
    "degree_distribution = {}\n",
    "for degree_count in range(max_deg + 1):\n",
    "    if degrees[degree_count] > 0:\n",
    "        prob = degrees[degree_count] / n\n",
    "        x.append(degree_count)\n",
    "        y.append(prob)\n",
    "        degree_distribution[degree_count] = prob\n",
    "\n",
    "# Printing the degree distribution\n",
    "print(\"Degree Distribution:\", degree_distribution)\n",
    "\n",
    "# Plotting the degree distribution on a log-log scale\n",
    "plt.figure(figsize=(10, 6))\n",
    "plt.loglog(x, y, marker='o', linestyle='-', color='b')\n",
    "plt.title('Log-log plot of Degree Distribution')\n",
    "plt.xlabel('Degree (k)')\n",
    "plt.ylabel('P(k)')\n",
    "\n",
    "# Fitting a line to the log-log data excluding the first few and last few degree values\n",
    "log_x = np.log(x[1:-1])  # Excluding the first and last data points\n",
    "log_y = np.log(y[1:-1])\n",
    "coefficients = np.polyfit(log_x, log_y, 1)\n",
    "slope = coefficients[0]\n",
    "intercept = coefficients[1]\n",
    "\n",
    "# Plotting the fitted line\n",
    "plt.plot(x[1:-1], np.exp(intercept) * (x[1:-1] ** slope), 'r-', label=f'Fit: y = {np.exp(intercept):.3f} * x^{slope:.3f}')\n",
    "plt.legend()\n",
    "plt.show()\n",
    "\n",
    "# Printing the slope\n",
    "print(\"Slope (Gamma) of the line:\", -slope)  # The slope of the line is the exponent gamma"
   ]
  },
  {
   "cell_type": "markdown",
   "metadata": {},
   "source": [
    "### Part 3.3 - Clustering Coefficient"
   ]
  },
  {
   "cell_type": "code",
   "execution_count": 17,
   "metadata": {},
   "outputs": [
    {
     "name": "stdout",
     "output_type": "stream",
     "text": [
      "Average Clustering Coefficient: 0.2116414939186282\n"
     ]
    }
   ],
   "source": [
    "cc_total = 0\n",
    "n = len(nodes_list)  # Total number of nodes\n",
    "\n",
    "for node in graph:\n",
    "    neighbors = list(graph[node])\n",
    "    if len(neighbors) < 2:  # If the node's degree is less than 2\n",
    "        continue\n",
    "  \n",
    "     # Counting triangles\n",
    "    triangle_count = 0\n",
    "    for neighbor in neighbors:\n",
    "        if node == neighbor:\n",
    "            continue\n",
    "        # Setting of neighbors of 'neighbor' for quick lookup\n",
    "        neighbor_neighbors = set(graph[neighbor])\n",
    "        for second_neighbor in neighbors:\n",
    "            if second_neighbor in neighbor_neighbors:\n",
    "                triangle_count += 1\n",
    "\n",
    "    # Each triangle is counted three times, once at each vertex\n",
    "    local_cc = triangle_count / (len(neighbors) * (len(neighbors) - 1))\n",
    "    cc_total += local_cc\n",
    "\n",
    "# Averaging the clustering coefficient\n",
    "cc_average = cc_total / n\n",
    "print(\"Average Clustering Coefficient:\", cc_average)"
   ]
  },
  {
   "cell_type": "markdown",
   "metadata": {},
   "source": [
    "### Part 3.4 - Page Rank "
   ]
  },
  {
   "cell_type": "code",
   "execution_count": 7,
   "metadata": {},
   "outputs": [
    {
     "name": "stdout",
     "output_type": "stream",
     "text": [
      "378\n",
      "76\n",
      "655\n",
      "1213\n",
      "1194\n",
      "64\n",
      "706\n",
      "1034\n",
      "1128\n",
      "665\n"
     ]
    }
   ],
   "source": [
    "import numpy as np\n",
    "\n",
    "directed_graph_file = \"Ecoli-directed.txt\"\n",
    "\n",
    "file = open(directed_graph_file, \"r\")\n",
    "list_of_edges = file.readlines()\n",
    "\n",
    "# Removing empty strings from the list of edge data\n",
    "list_of_edges = [edge.split() for edge in list_of_edges if edge]\n",
    "# Converting edge information to integers\n",
    "list_of_edges = [[int(node) for node in edge] for edge in list_of_edges]\n",
    "# Finding number of nodes\n",
    "number_of_nodes = max(max(edge) for edge in list_of_edges) + 1\n",
    "# Initializing the adjacency matrix with a default weight\n",
    "adj_matrix = np.full((number_of_nodes, number_of_nodes), 0.1)\n",
    "# Assigning a higher weight to the edges present in the list\n",
    "adj_matrix[tuple(zip(*list_of_edges))] = 0.9\n",
    "\n",
    "# Initializing the previous page rank and the current page rank\n",
    "previous_page_rank = np.zeros(number_of_nodes)\n",
    "current_page_rank = np.ones(number_of_nodes)\n",
    "# Setting the convergence threshold\n",
    "convergence_threshold = 0.001\n",
    "\n",
    "# Iterating until converges\n",
    "while np.linalg.norm(current_page_rank - previous_page_rank) > convergence_threshold:\n",
    "  previous_page_rank = current_page_rank\n",
    "  current_page_rank = np.dot(adj_matrix, previous_page_rank)\n",
    "\n",
    "  # Normalizing the current page rank vector\n",
    "  current_page_rank /= np.max(current_page_rank)\n",
    "\n",
    "# Pairing each rank with its corresponding index (node number)\n",
    "indexed_probability = [(probability, index) for index, probability in enumerate(current_page_rank)]\n",
    "# Sorting the list in descending order of the page rank\n",
    "indexed_probability.sort(reverse=True)\n",
    "\n",
    "# Printing the top 10 genes based on their page rank\n",
    "for i in range(10):\n",
    "  print(indexed_probability[i][1])\n",
    "\n"
   ]
  }
 ],
 "metadata": {
  "kernelspec": {
   "display_name": "Python 3",
   "language": "python",
   "name": "python3"
  },
  "language_info": {
   "codemirror_mode": {
    "name": "ipython",
    "version": 3
   },
   "file_extension": ".py",
   "mimetype": "text/x-python",
   "name": "python",
   "nbconvert_exporter": "python",
   "pygments_lexer": "ipython3",
   "version": "3.11.8"
  }
 },
 "nbformat": 4,
 "nbformat_minor": 2
}
